{
 "cells": [
  {
   "cell_type": "code",
   "execution_count": 14,
   "id": "c9bc663b",
   "metadata": {},
   "outputs": [],
   "source": [
    "import pandas as pd\n",
    "import numpy as np\n",
    "import matplotlib.pyplot as plt \n",
    "import seaborn as sns\n",
    "import sklearn.preprocessing\n",
    "%matplotlib inline"
   ]
  },
  {
   "cell_type": "code",
   "execution_count": 15,
   "id": "ec583eda",
   "metadata": {},
   "outputs": [
    {
     "data": {
      "text/plain": [
       "array([ 7.91219739, -1.77038856,  6.1562978 , ..., -2.59452754,\n",
       "        6.68660526,  7.58337279])"
      ]
     },
     "execution_count": 15,
     "metadata": {},
     "output_type": "execute_result"
    }
   ],
   "source": [
    "np.random.normal(5,3,10000)"
   ]
  },
  {
   "cell_type": "code",
   "execution_count": 16,
   "id": "61e768ee",
   "metadata": {},
   "outputs": [],
   "source": [
    "df = pd.DataFrame({'col1':np.random.normal(0,2,10000), \n",
    "                        'col2':np.random.normal(5,3,10000), \n",
    "                        'col3':np.random.normal(-5,5,10000)})"
   ]
  },
  {
   "cell_type": "code",
   "execution_count": 18,
   "id": "4b3721e4",
   "metadata": {},
   "outputs": [],
   "source": [
    "# Plot des 3 séries avant normalisation\n"
   ]
  },
  {
   "cell_type": "code",
   "execution_count": null,
   "id": "419560ed",
   "metadata": {},
   "outputs": [],
   "source": [
    "# M"
   ]
  }
 ],
 "metadata": {
  "kernelspec": {
   "display_name": "Python 3 (ipykernel)",
   "language": "python",
   "name": "python3"
  },
  "language_info": {
   "codemirror_mode": {
    "name": "ipython",
    "version": 3
   },
   "file_extension": ".py",
   "mimetype": "text/x-python",
   "name": "python",
   "nbconvert_exporter": "python",
   "pygments_lexer": "ipython3",
   "version": "3.9.13"
  }
 },
 "nbformat": 4,
 "nbformat_minor": 5
}
